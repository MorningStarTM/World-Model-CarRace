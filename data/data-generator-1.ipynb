{
 "cells": [
  {
   "cell_type": "code",
   "execution_count": 1,
   "id": "310427b3",
   "metadata": {
    "_cell_guid": "b1076dfc-b9ad-4769-8c92-a6c4dae69d19",
    "_uuid": "8f2839f25d086af736a60e9eeb907d3b93b6e0e5",
    "execution": {
     "iopub.execute_input": "2024-09-30T18:12:10.900585Z",
     "iopub.status.busy": "2024-09-30T18:12:10.899386Z",
     "iopub.status.idle": "2024-09-30T18:12:28.767094Z",
     "shell.execute_reply": "2024-09-30T18:12:28.765500Z"
    },
    "papermill": {
     "duration": 17.87866,
     "end_time": "2024-09-30T18:12:28.770206",
     "exception": false,
     "start_time": "2024-09-30T18:12:10.891546",
     "status": "completed"
    },
    "tags": []
   },
   "outputs": [
    {
     "name": "stdout",
     "output_type": "stream",
     "text": [
      "Requirement already satisfied: stable-baselines3 in /opt/conda/lib/python3.10/site-packages (2.1.0)\r\n",
      "Collecting huggingface-sb3\r\n",
      "  Downloading huggingface_sb3-3.0-py3-none-any.whl.metadata (6.3 kB)\r\n",
      "Requirement already satisfied: gymnasium<0.30,>=0.28.1 in /opt/conda/lib/python3.10/site-packages (from stable-baselines3) (0.29.0)\r\n",
      "Requirement already satisfied: numpy>=1.20 in /opt/conda/lib/python3.10/site-packages (from stable-baselines3) (1.26.4)\r\n",
      "Requirement already satisfied: torch>=1.13 in /opt/conda/lib/python3.10/site-packages (from stable-baselines3) (2.4.0+cpu)\r\n",
      "Requirement already satisfied: cloudpickle in /opt/conda/lib/python3.10/site-packages (from stable-baselines3) (3.0.0)\r\n",
      "Requirement already satisfied: pandas in /opt/conda/lib/python3.10/site-packages (from stable-baselines3) (2.2.2)\r\n",
      "Requirement already satisfied: matplotlib in /opt/conda/lib/python3.10/site-packages (from stable-baselines3) (3.7.5)\r\n",
      "Requirement already satisfied: huggingface-hub~=0.8 in /opt/conda/lib/python3.10/site-packages (from huggingface-sb3) (0.24.6)\r\n",
      "Requirement already satisfied: pyyaml~=6.0 in /opt/conda/lib/python3.10/site-packages (from huggingface-sb3) (6.0.2)\r\n",
      "Requirement already satisfied: wasabi in /opt/conda/lib/python3.10/site-packages (from huggingface-sb3) (1.1.3)\r\n",
      "Requirement already satisfied: typing-extensions>=4.3.0 in /opt/conda/lib/python3.10/site-packages (from gymnasium<0.30,>=0.28.1->stable-baselines3) (4.12.2)\r\n",
      "Requirement already satisfied: farama-notifications>=0.0.1 in /opt/conda/lib/python3.10/site-packages (from gymnasium<0.30,>=0.28.1->stable-baselines3) (0.0.4)\r\n",
      "Requirement already satisfied: filelock in /opt/conda/lib/python3.10/site-packages (from huggingface-hub~=0.8->huggingface-sb3) (3.15.1)\r\n",
      "Requirement already satisfied: fsspec>=2023.5.0 in /opt/conda/lib/python3.10/site-packages (from huggingface-hub~=0.8->huggingface-sb3) (2024.6.1)\r\n",
      "Requirement already satisfied: packaging>=20.9 in /opt/conda/lib/python3.10/site-packages (from huggingface-hub~=0.8->huggingface-sb3) (21.3)\r\n",
      "Requirement already satisfied: requests in /opt/conda/lib/python3.10/site-packages (from huggingface-hub~=0.8->huggingface-sb3) (2.32.3)\r\n",
      "Requirement already satisfied: tqdm>=4.42.1 in /opt/conda/lib/python3.10/site-packages (from huggingface-hub~=0.8->huggingface-sb3) (4.66.4)\r\n",
      "Requirement already satisfied: sympy in /opt/conda/lib/python3.10/site-packages (from torch>=1.13->stable-baselines3) (1.12)\r\n",
      "Requirement already satisfied: networkx in /opt/conda/lib/python3.10/site-packages (from torch>=1.13->stable-baselines3) (3.3)\r\n",
      "Requirement already satisfied: jinja2 in /opt/conda/lib/python3.10/site-packages (from torch>=1.13->stable-baselines3) (3.1.4)\r\n",
      "Requirement already satisfied: contourpy>=1.0.1 in /opt/conda/lib/python3.10/site-packages (from matplotlib->stable-baselines3) (1.2.1)\r\n",
      "Requirement already satisfied: cycler>=0.10 in /opt/conda/lib/python3.10/site-packages (from matplotlib->stable-baselines3) (0.12.1)\r\n",
      "Requirement already satisfied: fonttools>=4.22.0 in /opt/conda/lib/python3.10/site-packages (from matplotlib->stable-baselines3) (4.53.0)\r\n",
      "Requirement already satisfied: kiwisolver>=1.0.1 in /opt/conda/lib/python3.10/site-packages (from matplotlib->stable-baselines3) (1.4.5)\r\n",
      "Requirement already satisfied: pillow>=6.2.0 in /opt/conda/lib/python3.10/site-packages (from matplotlib->stable-baselines3) (9.5.0)\r\n",
      "Requirement already satisfied: pyparsing>=2.3.1 in /opt/conda/lib/python3.10/site-packages (from matplotlib->stable-baselines3) (3.1.2)\r\n",
      "Requirement already satisfied: python-dateutil>=2.7 in /opt/conda/lib/python3.10/site-packages (from matplotlib->stable-baselines3) (2.9.0.post0)\r\n",
      "Requirement already satisfied: pytz>=2020.1 in /opt/conda/lib/python3.10/site-packages (from pandas->stable-baselines3) (2024.1)\r\n",
      "Requirement already satisfied: tzdata>=2022.7 in /opt/conda/lib/python3.10/site-packages (from pandas->stable-baselines3) (2024.1)\r\n",
      "Requirement already satisfied: six>=1.5 in /opt/conda/lib/python3.10/site-packages (from python-dateutil>=2.7->matplotlib->stable-baselines3) (1.16.0)\r\n",
      "Requirement already satisfied: MarkupSafe>=2.0 in /opt/conda/lib/python3.10/site-packages (from jinja2->torch>=1.13->stable-baselines3) (2.1.5)\r\n",
      "Requirement already satisfied: charset-normalizer<4,>=2 in /opt/conda/lib/python3.10/site-packages (from requests->huggingface-hub~=0.8->huggingface-sb3) (3.3.2)\r\n",
      "Requirement already satisfied: idna<4,>=2.5 in /opt/conda/lib/python3.10/site-packages (from requests->huggingface-hub~=0.8->huggingface-sb3) (3.7)\r\n",
      "Requirement already satisfied: urllib3<3,>=1.21.1 in /opt/conda/lib/python3.10/site-packages (from requests->huggingface-hub~=0.8->huggingface-sb3) (1.26.18)\r\n",
      "Requirement already satisfied: certifi>=2017.4.17 in /opt/conda/lib/python3.10/site-packages (from requests->huggingface-hub~=0.8->huggingface-sb3) (2024.7.4)\r\n",
      "Requirement already satisfied: mpmath>=0.19 in /opt/conda/lib/python3.10/site-packages (from sympy->torch>=1.13->stable-baselines3) (1.3.0)\r\n",
      "Downloading huggingface_sb3-3.0-py3-none-any.whl (9.7 kB)\r\n",
      "Installing collected packages: huggingface-sb3\r\n",
      "Successfully installed huggingface-sb3-3.0\r\n"
     ]
    }
   ],
   "source": [
    "!pip install stable-baselines3 huggingface-sb3"
   ]
  },
  {
   "cell_type": "code",
   "execution_count": 2,
   "id": "4c85c7de",
   "metadata": {
    "execution": {
     "iopub.execute_input": "2024-09-30T18:12:28.787186Z",
     "iopub.status.busy": "2024-09-30T18:12:28.785927Z",
     "iopub.status.idle": "2024-09-30T18:12:36.528766Z",
     "shell.execute_reply": "2024-09-30T18:12:36.527123Z"
    },
    "papermill": {
     "duration": 7.754403,
     "end_time": "2024-09-30T18:12:36.531823",
     "exception": false,
     "start_time": "2024-09-30T18:12:28.777420",
     "status": "completed"
    },
    "tags": []
   },
   "outputs": [
    {
     "name": "stdout",
     "output_type": "stream",
     "text": [
      "Requirement already satisfied: gym[box2d] in /opt/conda/lib/python3.10/site-packages (0.26.2)\r\n",
      "Requirement already satisfied: numpy>=1.18.0 in /opt/conda/lib/python3.10/site-packages (from gym[box2d]) (1.26.4)\r\n",
      "Requirement already satisfied: cloudpickle>=1.2.0 in /opt/conda/lib/python3.10/site-packages (from gym[box2d]) (3.0.0)\r\n",
      "Requirement already satisfied: gym-notices>=0.0.4 in /opt/conda/lib/python3.10/site-packages (from gym[box2d]) (0.0.8)\r\n",
      "Collecting box2d-py==2.3.5 (from gym[box2d])\r\n",
      "  Downloading box2d-py-2.3.5.tar.gz (374 kB)\r\n",
      "\u001b[2K     \u001b[90m━━━━━━━━━━━━━━━━━━━━━━━━━━━━━━━━━━━━━━━\u001b[0m \u001b[32m374.4/374.4 kB\u001b[0m \u001b[31m9.8 MB/s\u001b[0m eta \u001b[36m0:00:00\u001b[0m\r\n",
      "\u001b[?25h  Preparing metadata (setup.py) ... \u001b[?25l-\b \bdone\r\n",
      "\u001b[?25hCollecting pygame==2.1.0 (from gym[box2d])\r\n",
      "  Downloading pygame-2.1.0-cp310-cp310-manylinux_2_17_x86_64.manylinux2014_x86_64.whl.metadata (9.5 kB)\r\n",
      "Collecting swig==4.* (from gym[box2d])\r\n",
      "  Downloading swig-4.2.1-py2.py3-none-manylinux_2_5_x86_64.manylinux1_x86_64.whl.metadata (3.6 kB)\r\n",
      "Downloading pygame-2.1.0-cp310-cp310-manylinux_2_17_x86_64.manylinux2014_x86_64.whl (18.3 MB)\r\n",
      "\u001b[2K   \u001b[90m━━━━━━━━━━━━━━━━━━━━━━━━━━━━━━━━━━━━━━━━\u001b[0m \u001b[32m18.3/18.3 MB\u001b[0m \u001b[31m58.5 MB/s\u001b[0m eta \u001b[36m0:00:00\u001b[0m\r\n",
      "\u001b[?25hDownloading swig-4.2.1-py2.py3-none-manylinux_2_5_x86_64.manylinux1_x86_64.whl (1.9 MB)\r\n",
      "\u001b[2K   \u001b[90m━━━━━━━━━━━━━━━━━━━━━━━━━━━━━━━━━━━━━━━━\u001b[0m \u001b[32m1.9/1.9 MB\u001b[0m \u001b[31m50.3 MB/s\u001b[0m eta \u001b[36m0:00:00\u001b[0m\r\n",
      "\u001b[?25hBuilding wheels for collected packages: box2d-py\r\n",
      "  Building wheel for box2d-py (setup.py) ... \u001b[?25l-\b \b\\\b \berror\r\n",
      "  \u001b[1;31merror\u001b[0m: \u001b[1msubprocess-exited-with-error\u001b[0m\r\n",
      "  \r\n",
      "  \u001b[31m×\u001b[0m \u001b[32mpython setup.py bdist_wheel\u001b[0m did not run successfully.\r\n",
      "  \u001b[31m│\u001b[0m exit code: \u001b[1;36m1\u001b[0m\r\n",
      "  \u001b[31m╰─>\u001b[0m \u001b[31m[2 lines of output]\u001b[0m\r\n",
      "  \u001b[31m   \u001b[0m Using setuptools (version 70.0.0).\r\n",
      "  \u001b[31m   \u001b[0m error: command 'swig' failed: No such file or directory\r\n",
      "  \u001b[31m   \u001b[0m \u001b[31m[end of output]\u001b[0m\r\n",
      "  \r\n",
      "  \u001b[1;35mnote\u001b[0m: This error originates from a subprocess, and is likely not a problem with pip.\r\n",
      "\u001b[31m  ERROR: Failed building wheel for box2d-py\u001b[0m\u001b[31m\r\n",
      "\u001b[0m\u001b[?25h  Running setup.py clean for box2d-py\r\n",
      "Failed to build box2d-py\r\n",
      "\u001b[31mERROR: Could not build wheels for box2d-py, which is required to install pyproject.toml-based projects\u001b[0m\u001b[31m\r\n",
      "\u001b[0m"
     ]
    }
   ],
   "source": [
    "!pip install gym[box2d]"
   ]
  },
  {
   "cell_type": "code",
   "execution_count": 3,
   "id": "827d8825",
   "metadata": {
    "execution": {
     "iopub.execute_input": "2024-09-30T18:12:36.552565Z",
     "iopub.status.busy": "2024-09-30T18:12:36.552120Z",
     "iopub.status.idle": "2024-09-30T18:12:52.803024Z",
     "shell.execute_reply": "2024-09-30T18:12:52.801560Z"
    },
    "papermill": {
     "duration": 16.265045,
     "end_time": "2024-09-30T18:12:52.806148",
     "exception": false,
     "start_time": "2024-09-30T18:12:36.541103",
     "status": "completed"
    },
    "tags": []
   },
   "outputs": [
    {
     "name": "stdout",
     "output_type": "stream",
     "text": [
      "Collecting swig\r\n",
      "  Using cached swig-4.2.1-py2.py3-none-manylinux_2_5_x86_64.manylinux1_x86_64.whl.metadata (3.6 kB)\r\n",
      "Using cached swig-4.2.1-py2.py3-none-manylinux_2_5_x86_64.manylinux1_x86_64.whl (1.9 MB)\r\n",
      "Installing collected packages: swig\r\n",
      "Successfully installed swig-4.2.1\r\n"
     ]
    }
   ],
   "source": [
    "!pip install swig"
   ]
  },
  {
   "cell_type": "code",
   "execution_count": 4,
   "id": "90411e68",
   "metadata": {
    "execution": {
     "iopub.execute_input": "2024-09-30T18:12:52.827766Z",
     "iopub.status.busy": "2024-09-30T18:12:52.827316Z",
     "iopub.status.idle": "2024-09-30T18:13:58.834789Z",
     "shell.execute_reply": "2024-09-30T18:13:58.833115Z"
    },
    "papermill": {
     "duration": 66.021423,
     "end_time": "2024-09-30T18:13:58.837750",
     "exception": false,
     "start_time": "2024-09-30T18:12:52.816327",
     "status": "completed"
    },
    "tags": []
   },
   "outputs": [
    {
     "name": "stdout",
     "output_type": "stream",
     "text": [
      "Collecting Box2D\r\n",
      "  Downloading Box2D-2.3.2.tar.gz (427 kB)\r\n",
      "\u001b[2K     \u001b[90m━━━━━━━━━━━━━━━━━━━━━━━━━━━━━━━━━━━━━━\u001b[0m \u001b[32m427.9/427.9 kB\u001b[0m \u001b[31m10.6 MB/s\u001b[0m eta \u001b[36m0:00:00\u001b[0m\r\n",
      "\u001b[?25h  Preparing metadata (setup.py) ... \u001b[?25l-\b \bdone\r\n",
      "\u001b[?25hBuilding wheels for collected packages: Box2D\r\n",
      "  Building wheel for Box2D (setup.py) ... \u001b[?25l-\b \b\\\b \b|\b \b/\b \b-\b \b\\\b \b|\b \b/\b \b-\b \b\\\b \b|\b \bdone\r\n",
      "\u001b[?25h  Created wheel for Box2D: filename=Box2D-2.3.2-cp310-cp310-linux_x86_64.whl size=513404 sha256=d15d95f691c49346a39e09c7d322cdefe2b39b808c1e4ac490dfed2ead6f3beb\r\n",
      "  Stored in directory: /root/.cache/pip/wheels/eb/cb/be/e663f3ce9aba6580611c0febaf7cd3cf7603f87047de2a52f9\r\n",
      "Successfully built Box2D\r\n",
      "Installing collected packages: Box2D\r\n",
      "Successfully installed Box2D-2.3.2\r\n"
     ]
    }
   ],
   "source": [
    "!pip install Box2D"
   ]
  },
  {
   "cell_type": "code",
   "execution_count": 5,
   "id": "24be2dce",
   "metadata": {
    "execution": {
     "iopub.execute_input": "2024-09-30T18:13:58.862887Z",
     "iopub.status.busy": "2024-09-30T18:13:58.862398Z",
     "iopub.status.idle": "2024-09-30T18:15:06.762830Z",
     "shell.execute_reply": "2024-09-30T18:15:06.761263Z"
    },
    "papermill": {
     "duration": 67.916813,
     "end_time": "2024-09-30T18:15:06.765927",
     "exception": false,
     "start_time": "2024-09-30T18:13:58.849114",
     "status": "completed"
    },
    "tags": []
   },
   "outputs": [
    {
     "name": "stdout",
     "output_type": "stream",
     "text": [
      "Requirement already satisfied: box2d in /opt/conda/lib/python3.10/site-packages (2.3.2)\r\n",
      "Collecting box2d-kengz\r\n",
      "  Downloading Box2D-kengz-2.3.3.tar.gz (425 kB)\r\n",
      "\u001b[2K     \u001b[90m━━━━━━━━━━━━━━━━━━━━━━━━━━━━━━━━━━━━━━\u001b[0m \u001b[32m425.4/425.4 kB\u001b[0m \u001b[31m11.4 MB/s\u001b[0m eta \u001b[36m0:00:00\u001b[0m\r\n",
      "\u001b[?25h  Preparing metadata (setup.py) ... \u001b[?25l-\b \bdone\r\n",
      "\u001b[?25hBuilding wheels for collected packages: box2d-kengz\r\n",
      "  Building wheel for box2d-kengz (setup.py) ... \u001b[?25l-\b \b\\\b \b|\b \b/\b \b-\b \b\\\b \b|\b \b/\b \b-\b \b\\\b \b|\b \b/\b \bdone\r\n",
      "\u001b[?25h  Created wheel for box2d-kengz: filename=Box2D_kengz-2.3.3-cp310-cp310-linux_x86_64.whl size=513383 sha256=da384bbc0d49d3383554e066ccd173cd7fd6037c7f63b79abdc20a44bdd0bae1\r\n",
      "  Stored in directory: /root/.cache/pip/wheels/ab/a3/5f/6396406aa0163da86c2a8d28304a120b55cfa98363654d853b\r\n",
      "Successfully built box2d-kengz\r\n",
      "Installing collected packages: box2d-kengz\r\n",
      "Successfully installed box2d-kengz-2.3.3\r\n"
     ]
    }
   ],
   "source": [
    "!pip install box2d box2d-kengz"
   ]
  },
  {
   "cell_type": "code",
   "execution_count": 6,
   "id": "b008303e",
   "metadata": {
    "execution": {
     "iopub.execute_input": "2024-09-30T18:15:06.796372Z",
     "iopub.status.busy": "2024-09-30T18:15:06.795708Z",
     "iopub.status.idle": "2024-09-30T18:16:16.383743Z",
     "shell.execute_reply": "2024-09-30T18:16:16.382271Z"
    },
    "papermill": {
     "duration": 69.606617,
     "end_time": "2024-09-30T18:16:16.386818",
     "exception": false,
     "start_time": "2024-09-30T18:15:06.780201",
     "status": "completed"
    },
    "tags": []
   },
   "outputs": [
    {
     "name": "stdout",
     "output_type": "stream",
     "text": [
      "Requirement already satisfied: gym[box2d] in /opt/conda/lib/python3.10/site-packages (0.26.2)\r\n",
      "Requirement already satisfied: numpy>=1.18.0 in /opt/conda/lib/python3.10/site-packages (from gym[box2d]) (1.26.4)\r\n",
      "Requirement already satisfied: cloudpickle>=1.2.0 in /opt/conda/lib/python3.10/site-packages (from gym[box2d]) (3.0.0)\r\n",
      "Requirement already satisfied: gym-notices>=0.0.4 in /opt/conda/lib/python3.10/site-packages (from gym[box2d]) (0.0.8)\r\n",
      "Collecting box2d-py==2.3.5 (from gym[box2d])\r\n",
      "  Using cached box2d-py-2.3.5.tar.gz (374 kB)\r\n",
      "  Preparing metadata (setup.py) ... \u001b[?25l-\b \bdone\r\n",
      "\u001b[?25hCollecting pygame==2.1.0 (from gym[box2d])\r\n",
      "  Using cached pygame-2.1.0-cp310-cp310-manylinux_2_17_x86_64.manylinux2014_x86_64.whl.metadata (9.5 kB)\r\n",
      "Requirement already satisfied: swig==4.* in /opt/conda/lib/python3.10/site-packages (from gym[box2d]) (4.2.1)\r\n",
      "Using cached pygame-2.1.0-cp310-cp310-manylinux_2_17_x86_64.manylinux2014_x86_64.whl (18.3 MB)\r\n",
      "Building wheels for collected packages: box2d-py\r\n",
      "  Building wheel for box2d-py (setup.py) ... \u001b[?25l-\b \b\\\b \b|\b \b/\b \b-\b \b\\\b \b|\b \b/\b \b-\b \b\\\b \b|\b \b/\b \bdone\r\n",
      "\u001b[?25h  Created wheel for box2d-py: filename=box2d_py-2.3.5-cp310-cp310-linux_x86_64.whl size=495184 sha256=8a97661814b44c68eaf69c14c073094f565ca70799e5914c5d79368d494fe011\r\n",
      "  Stored in directory: /root/.cache/pip/wheels/db/8f/6a/eaaadf056fba10a98d986f6dce954e6201ba3126926fc5ad9e\r\n",
      "Successfully built box2d-py\r\n",
      "Installing collected packages: box2d-py, pygame\r\n",
      "Successfully installed box2d-py-2.3.5 pygame-2.1.0\r\n"
     ]
    }
   ],
   "source": [
    "!pip install gym[box2d]"
   ]
  },
  {
   "cell_type": "code",
   "execution_count": 7,
   "id": "0abe8141",
   "metadata": {
    "execution": {
     "iopub.execute_input": "2024-09-30T18:16:16.420771Z",
     "iopub.status.busy": "2024-09-30T18:16:16.420274Z",
     "iopub.status.idle": "2024-09-30T18:16:38.248017Z",
     "shell.execute_reply": "2024-09-30T18:16:38.246274Z"
    },
    "papermill": {
     "duration": 21.84838,
     "end_time": "2024-09-30T18:16:38.251059",
     "exception": false,
     "start_time": "2024-09-30T18:16:16.402679",
     "status": "completed"
    },
    "tags": []
   },
   "outputs": [],
   "source": [
    "import gym\n",
    "import os\n",
    "import numpy as np\n",
    "from PIL import Image\n",
    "import cv2\n",
    "import matplotlib.pyplot as plt\n",
    "import gym\n",
    "\n",
    "from huggingface_sb3 import load_from_hub\n",
    "from stable_baselines3 import PPO\n",
    "from stable_baselines3.common.evaluation import evaluate_policy\n",
    "import os\n",
    "import pandas as pd"
   ]
  },
  {
   "cell_type": "code",
   "execution_count": 8,
   "id": "14e7139b",
   "metadata": {
    "execution": {
     "iopub.execute_input": "2024-09-30T18:16:38.285629Z",
     "iopub.status.busy": "2024-09-30T18:16:38.284859Z",
     "iopub.status.idle": "2024-09-30T18:16:38.376336Z",
     "shell.execute_reply": "2024-09-30T18:16:38.374885Z"
    },
    "papermill": {
     "duration": 0.112134,
     "end_time": "2024-09-30T18:16:38.379297",
     "exception": false,
     "start_time": "2024-09-30T18:16:38.267163",
     "status": "completed"
    },
    "tags": []
   },
   "outputs": [],
   "source": [
    "env = gym.make('CarRacing-v2', render_mode='rgb_array')"
   ]
  },
  {
   "cell_type": "code",
   "execution_count": 9,
   "id": "9576e9be",
   "metadata": {
    "execution": {
     "iopub.execute_input": "2024-09-30T18:16:38.414643Z",
     "iopub.status.busy": "2024-09-30T18:16:38.413451Z",
     "iopub.status.idle": "2024-09-30T18:16:38.419370Z",
     "shell.execute_reply": "2024-09-30T18:16:38.418171Z"
    },
    "papermill": {
     "duration": 0.026531,
     "end_time": "2024-09-30T18:16:38.422024",
     "exception": false,
     "start_time": "2024-09-30T18:16:38.395493",
     "status": "completed"
    },
    "tags": []
   },
   "outputs": [],
   "source": [
    "num_episodes = 100\n",
    "steps_per_episode = 500"
   ]
  },
  {
   "cell_type": "code",
   "execution_count": 10,
   "id": "0045d97a",
   "metadata": {
    "execution": {
     "iopub.execute_input": "2024-09-30T18:16:38.458118Z",
     "iopub.status.busy": "2024-09-30T18:16:38.457623Z",
     "iopub.status.idle": "2024-09-30T18:16:38.464177Z",
     "shell.execute_reply": "2024-09-30T18:16:38.462931Z"
    },
    "papermill": {
     "duration": 0.028767,
     "end_time": "2024-09-30T18:16:38.466978",
     "exception": false,
     "start_time": "2024-09-30T18:16:38.438211",
     "status": "completed"
    },
    "tags": []
   },
   "outputs": [],
   "source": [
    "output_folder = \"/kaggle/working/car_racing-memory-model\"\n",
    "if not os.path.exists(output_folder):\n",
    "    os.makedirs(output_folder, exist_ok=True)"
   ]
  },
  {
   "cell_type": "code",
   "execution_count": 11,
   "id": "2dec08e2",
   "metadata": {
    "execution": {
     "iopub.execute_input": "2024-09-30T18:16:38.502225Z",
     "iopub.status.busy": "2024-09-30T18:16:38.501017Z",
     "iopub.status.idle": "2024-09-30T18:16:42.144865Z",
     "shell.execute_reply": "2024-09-30T18:16:42.143540Z"
    },
    "papermill": {
     "duration": 3.664378,
     "end_time": "2024-09-30T18:16:42.147908",
     "exception": false,
     "start_time": "2024-09-30T18:16:38.483530",
     "status": "completed"
    },
    "tags": []
   },
   "outputs": [
    {
     "data": {
      "application/vnd.jupyter.widget-view+json": {
       "model_id": "a934cb1cdd3142bf9b8895aa5e7d45a2",
       "version_major": 2,
       "version_minor": 0
      },
      "text/plain": [
       "ppo-CarRacing-v2.zip:   0%|          | 0.00/26.6M [00:00<?, ?B/s]"
      ]
     },
     "metadata": {},
     "output_type": "display_data"
    },
    {
     "name": "stderr",
     "output_type": "stream",
     "text": [
      "/opt/conda/lib/python3.10/site-packages/stable_baselines3/common/save_util.py:437: FutureWarning: You are using `torch.load` with `weights_only=False` (the current default value), which uses the default pickle module implicitly. It is possible to construct malicious pickle data which will execute arbitrary code during unpickling (See https://github.com/pytorch/pytorch/blob/main/SECURITY.md#untrusted-models for more details). In a future release, the default value for `weights_only` will be flipped to `True`. This limits the functions that could be executed during unpickling. Arbitrary objects will no longer be allowed to be loaded via this mode unless they are explicitly allowlisted by the user via `torch.serialization.add_safe_globals`. We recommend you start setting `weights_only=True` for any use case where you don't have full control of the loaded file. Please open an issue on GitHub for any issues related to this experimental feature.\n",
      "  th_object = th.load(file_content, map_location=device)\n"
     ]
    }
   ],
   "source": [
    "checkpoint = load_from_hub(\n",
    "    repo_id=\"Amankankriya/ppo-CarRacing-v2\",\n",
    "    filename=\"ppo-CarRacing-v2.zip\",\n",
    ")\n",
    "model = PPO.load(checkpoint)"
   ]
  },
  {
   "cell_type": "code",
   "execution_count": null,
   "id": "352d8e1e",
   "metadata": {
    "papermill": {
     "duration": 0.015977,
     "end_time": "2024-09-30T18:16:42.180389",
     "exception": false,
     "start_time": "2024-09-30T18:16:42.164412",
     "status": "completed"
    },
    "tags": []
   },
   "outputs": [],
   "source": []
  },
  {
   "cell_type": "code",
   "execution_count": 12,
   "id": "421ad8ec",
   "metadata": {
    "execution": {
     "iopub.execute_input": "2024-09-30T18:16:42.217223Z",
     "iopub.status.busy": "2024-09-30T18:16:42.215463Z",
     "iopub.status.idle": "2024-09-30T19:12:36.895348Z",
     "shell.execute_reply": "2024-09-30T19:12:36.893937Z"
    },
    "papermill": {
     "duration": 3354.725841,
     "end_time": "2024-09-30T19:12:36.922857",
     "exception": false,
     "start_time": "2024-09-30T18:16:42.197016",
     "status": "completed"
    },
    "tags": []
   },
   "outputs": [
    {
     "name": "stdout",
     "output_type": "stream",
     "text": [
      "Episode: 0\n"
     ]
    },
    {
     "name": "stderr",
     "output_type": "stream",
     "text": [
      "/opt/conda/lib/python3.10/site-packages/gym/utils/passive_env_checker.py:233: DeprecationWarning: `np.bool8` is a deprecated alias for `np.bool_`.  (Deprecated NumPy 1.24)\n",
      "  if not isinstance(terminated, (bool, np.bool8)):\n"
     ]
    },
    {
     "name": "stdout",
     "output_type": "stream",
     "text": [
      "Episode: 1\n",
      "Episode: 2\n",
      "Episode: 3\n",
      "Episode: 4\n",
      "Episode: 5\n",
      "Episode: 6\n",
      "Episode: 7\n",
      "Episode: 8\n",
      "Episode: 9\n",
      "Episode: 10\n",
      "Episode: 11\n",
      "Episode: 12\n",
      "Episode: 13\n",
      "Episode: 14\n",
      "Episode: 15\n",
      "Episode: 16\n",
      "Episode: 17\n",
      "Episode: 18\n",
      "Episode: 19\n",
      "Episode: 20\n",
      "Episode: 21\n",
      "Episode: 22\n",
      "Episode: 23\n",
      "Episode: 24\n",
      "Episode: 25\n",
      "Episode: 26\n",
      "Episode: 27\n",
      "Episode: 28\n",
      "Episode: 29\n",
      "Episode: 30\n",
      "Episode: 31\n",
      "Episode: 32\n",
      "Episode: 33\n",
      "Episode: 34\n",
      "Episode: 35\n",
      "Episode: 36\n",
      "Episode: 37\n",
      "Episode: 38\n",
      "Episode: 39\n",
      "Episode: 40\n",
      "Episode: 41\n",
      "Episode: 42\n",
      "Episode: 43\n",
      "Episode: 44\n",
      "Episode: 45\n",
      "Episode: 46\n",
      "Episode: 47\n",
      "Episode: 48\n",
      "Episode: 49\n",
      "Episode: 50\n",
      "Episode: 51\n",
      "Episode: 52\n",
      "Episode: 53\n",
      "Episode: 54\n",
      "Episode: 55\n",
      "Episode: 56\n",
      "Episode: 57\n",
      "Episode: 58\n",
      "Episode: 59\n",
      "Episode: 60\n",
      "Episode: 61\n",
      "Episode: 62\n",
      "Episode: 63\n",
      "Episode: 64\n",
      "Episode: 65\n",
      "Episode: 66\n",
      "Episode: 67\n",
      "Episode: 68\n",
      "Episode: 69\n",
      "Episode: 70\n",
      "Episode: 71\n",
      "Episode: 72\n",
      "Episode: 73\n",
      "Episode: 74\n",
      "Episode: 75\n",
      "Episode: 76\n",
      "Episode: 77\n",
      "Episode: 78\n",
      "Episode: 79\n",
      "Episode: 80\n",
      "Episode: 81\n",
      "Episode: 82\n",
      "Episode: 83\n",
      "Episode: 84\n",
      "Episode: 85\n",
      "Episode: 86\n",
      "Episode: 87\n",
      "Episode: 88\n",
      "Episode: 89\n",
      "Episode: 90\n",
      "Episode: 91\n",
      "Episode: 92\n",
      "Episode: 93\n",
      "Episode: 94\n",
      "Episode: 95\n",
      "Episode: 96\n",
      "Episode: 97\n",
      "Episode: 98\n",
      "Episode: 99\n",
      "done\n"
     ]
    }
   ],
   "source": [
    "# Generate data\n",
    "for episode in range(num_episodes):\n",
    "    print(f\"Episode: {episode}\")\n",
    "    obs, _ = env.reset()\n",
    "    for step in range(steps_per_episode):\n",
    "        # Render environment and save the observation as an image\n",
    "        img = env.render()  # Render returns a list of images if mode is 'rgb_array'\n",
    "\n",
    "        # Check if img is a list and extract the first element if so\n",
    "        if isinstance(img, list):\n",
    "            img = img[0]\n",
    "\n",
    "        # Save the observation as an image\n",
    "        img = Image.fromarray(img)\n",
    "        img.save(os.path.join(output_folder, f'images{episode}_{step}.png'))\n",
    "\n",
    "        # Take a random action\n",
    "        action, _states = model.predict(obs, deterministic=True)\n",
    "        obs, reward, done, _, _ = env.step(action)\n",
    "\n",
    "        # Break the loop if the episode is done\n",
    "        if done:\n",
    "            break\n",
    "\n",
    "env.close()\n",
    "print(\"done\")"
   ]
  },
  {
   "cell_type": "code",
   "execution_count": 13,
   "id": "15d05bfc",
   "metadata": {
    "execution": {
     "iopub.execute_input": "2024-09-30T19:12:37.044103Z",
     "iopub.status.busy": "2024-09-30T19:12:37.043133Z",
     "iopub.status.idle": "2024-09-30T20:09:15.116278Z",
     "shell.execute_reply": "2024-09-30T20:09:15.114616Z"
    },
    "papermill": {
     "duration": 3398.139843,
     "end_time": "2024-09-30T20:09:15.154551",
     "exception": false,
     "start_time": "2024-09-30T19:12:37.014708",
     "status": "completed"
    },
    "tags": []
   },
   "outputs": [
    {
     "name": "stdout",
     "output_type": "stream",
     "text": [
      "Episode: 0\n",
      "Episode: 1\n",
      "Episode: 2\n",
      "Episode: 3\n",
      "Episode: 4\n",
      "Episode: 5\n",
      "Episode: 6\n",
      "Episode: 7\n",
      "Episode: 8\n",
      "Episode: 9\n",
      "Episode: 10\n",
      "Episode: 11\n",
      "Episode: 12\n",
      "Episode: 13\n",
      "Episode: 14\n",
      "Episode: 15\n",
      "Episode: 16\n",
      "Episode: 17\n",
      "Episode: 18\n",
      "Episode: 19\n",
      "Episode: 20\n",
      "Episode: 21\n",
      "Episode: 22\n",
      "Episode: 23\n",
      "Episode: 24\n",
      "Episode: 25\n",
      "Episode: 26\n",
      "Episode: 27\n",
      "Episode: 28\n",
      "Episode: 29\n",
      "Episode: 30\n",
      "Episode: 31\n",
      "Episode: 32\n",
      "Episode: 33\n",
      "Episode: 34\n",
      "Episode: 35\n",
      "Episode: 36\n",
      "Episode: 37\n",
      "Episode: 38\n",
      "Episode: 39\n",
      "Episode: 40\n",
      "Episode: 41\n",
      "Episode: 42\n",
      "Episode: 43\n",
      "Episode: 44\n",
      "Episode: 45\n",
      "Episode: 46\n",
      "Episode: 47\n",
      "Episode: 48\n",
      "Episode: 49\n",
      "Episode: 50\n",
      "Episode: 51\n",
      "Episode: 52\n",
      "Episode: 53\n",
      "Episode: 54\n",
      "Episode: 55\n",
      "Episode: 56\n",
      "Episode: 57\n",
      "Episode: 58\n",
      "Episode: 59\n",
      "Episode: 60\n",
      "Episode: 61\n",
      "Episode: 62\n",
      "Episode: 63\n",
      "Episode: 64\n",
      "Episode: 65\n",
      "Episode: 66\n",
      "Episode: 67\n",
      "Episode: 68\n",
      "Episode: 69\n",
      "Episode: 70\n",
      "Episode: 71\n",
      "Episode: 72\n",
      "Episode: 73\n",
      "Episode: 74\n",
      "Episode: 75\n",
      "Episode: 76\n",
      "Episode: 77\n",
      "Episode: 78\n",
      "Episode: 79\n",
      "Episode: 80\n",
      "Episode: 81\n",
      "Episode: 82\n",
      "Episode: 83\n",
      "Episode: 84\n",
      "Episode: 85\n",
      "Episode: 86\n",
      "Episode: 87\n",
      "Episode: 88\n",
      "Episode: 89\n",
      "Episode: 90\n",
      "Episode: 91\n",
      "Episode: 92\n",
      "Episode: 93\n",
      "Episode: 94\n",
      "Episode: 95\n",
      "Episode: 96\n",
      "Episode: 97\n",
      "Episode: 98\n",
      "Episode: 99\n",
      "done\n"
     ]
    }
   ],
   "source": [
    "# Initialize a DataFrame to store all the data for the entire episode\n",
    "data = []\n",
    "\n",
    "# Generate data\n",
    "for episode in range(num_episodes):\n",
    "    print(f\"Episode: {episode}\")\n",
    "    obs, _ = env.reset()\n",
    "\n",
    "    for step in range(steps_per_episode):\n",
    "        # Render environment and save the observation as an image\n",
    "        img = env.render()  # Render returns a list of images if mode is 'rgb_array'\n",
    "\n",
    "        # Check if img is a list and extract the first element if so\n",
    "        if isinstance(img, list):\n",
    "            img = img[0]\n",
    "\n",
    "        # Image file name\n",
    "        img_name = f'images{episode}_{step}.png'\n",
    "\n",
    "        # Save the observation as an image\n",
    "        img_path = os.path.join(output_folder, img_name)\n",
    "        img = Image.fromarray(img)\n",
    "        img.save(img_path)\n",
    "\n",
    "        # Take a random action\n",
    "        action, _states = model.predict(obs, deterministic=True)\n",
    "\n",
    "        # Step the environment\n",
    "        next_obs, reward, done, _, _ = env.step(action)\n",
    "\n",
    "        # Save the data for this step\n",
    "        data.append({\n",
    "            'image': img_name,\n",
    "            'action': action,\n",
    "            'reward': reward,\n",
    "            'next_image': f'images{episode}_{step + 1}.png'  # The image name for the next state\n",
    "        })\n",
    "\n",
    "        # Update the observation\n",
    "        obs = next_obs\n",
    "\n",
    "        # Break the loop if the episode is done\n",
    "        if done:\n",
    "            break\n",
    "\n",
    "# Convert the collected data to a Pandas DataFrame\n",
    "df = pd.DataFrame(data)\n",
    "\n",
    "# Save the DataFrame as a CSV or Pickle file\n",
    "df.to_csv(os.path.join(output_folder, 'episode_data.csv'), index=False)\n",
    "\n",
    "# If you prefer a pickle file to store the DataFrame\n",
    "# df.to_pickle(os.path.join(output_folder, 'episode_data.pkl'))\n",
    "\n",
    "env.close()\n",
    "print(\"done\")"
   ]
  },
  {
   "cell_type": "code",
   "execution_count": 14,
   "id": "75eb082b",
   "metadata": {
    "execution": {
     "iopub.execute_input": "2024-09-30T20:09:15.226225Z",
     "iopub.status.busy": "2024-09-30T20:09:15.225710Z",
     "iopub.status.idle": "2024-09-30T20:09:15.398659Z",
     "shell.execute_reply": "2024-09-30T20:09:15.397284Z"
    },
    "papermill": {
     "duration": 0.212555,
     "end_time": "2024-09-30T20:09:15.402342",
     "exception": false,
     "start_time": "2024-09-30T20:09:15.189787",
     "status": "completed"
    },
    "tags": []
   },
   "outputs": [
    {
     "name": "stdout",
     "output_type": "stream",
     "text": [
      "             image                              action    reward  \\\n",
      "0    images0_0.png  [-0.9010735  0.         0.       ]  5.533803   \n",
      "1    images0_1.png                          [1. 0. 0.] -0.100000   \n",
      "2    images0_2.png                          [1. 0. 1.] -0.100000   \n",
      "3    images0_3.png                          [1. 0. 1.] -0.100000   \n",
      "4    images0_4.png                          [1. 0. 1.] -0.100000   \n",
      "5    images0_5.png                          [1. 0. 1.] -0.100000   \n",
      "6    images0_6.png                          [1. 0. 1.] -0.100000   \n",
      "7    images0_7.png                          [1. 0. 0.] -0.100000   \n",
      "8    images0_8.png  [-0.9792581  1.         0.       ] -0.100000   \n",
      "9    images0_9.png                       [-1.  1.  0.] -0.100000   \n",
      "10  images0_10.png                       [-1.  1.  0.] -0.100000   \n",
      "11  images0_11.png                       [-1.  1.  0.] -0.100000   \n",
      "12  images0_12.png                       [-1.  1.  0.] -0.100000   \n",
      "13  images0_13.png                       [-1.  1.  0.] -0.100000   \n",
      "14  images0_14.png                       [-1.  1.  0.] -0.100000   \n",
      "\n",
      "        next_image  \n",
      "0    images0_1.png  \n",
      "1    images0_2.png  \n",
      "2    images0_3.png  \n",
      "3    images0_4.png  \n",
      "4    images0_5.png  \n",
      "5    images0_6.png  \n",
      "6    images0_7.png  \n",
      "7    images0_8.png  \n",
      "8    images0_9.png  \n",
      "9   images0_10.png  \n",
      "10  images0_11.png  \n",
      "11  images0_12.png  \n",
      "12  images0_13.png  \n",
      "13  images0_14.png  \n",
      "14  images0_15.png  \n"
     ]
    }
   ],
   "source": [
    "df = pd.read_csv(os.path.join(output_folder, 'episode_data.csv'))\n",
    "\n",
    "# Print the first few rows\n",
    "print(df.head(15))"
   ]
  },
  {
   "cell_type": "code",
   "execution_count": null,
   "id": "55ae594d",
   "metadata": {
    "papermill": {
     "duration": 0.041722,
     "end_time": "2024-09-30T20:09:15.490920",
     "exception": false,
     "start_time": "2024-09-30T20:09:15.449198",
     "status": "completed"
    },
    "tags": []
   },
   "outputs": [],
   "source": []
  }
 ],
 "metadata": {
  "kaggle": {
   "accelerator": "none",
   "dataSources": [],
   "dockerImageVersionId": 30761,
   "isGpuEnabled": false,
   "isInternetEnabled": true,
   "language": "python",
   "sourceType": "notebook"
  },
  "kernelspec": {
   "display_name": "Python 3",
   "language": "python",
   "name": "python3"
  },
  "language_info": {
   "codemirror_mode": {
    "name": "ipython",
    "version": 3
   },
   "file_extension": ".py",
   "mimetype": "text/x-python",
   "name": "python",
   "nbconvert_exporter": "python",
   "pygments_lexer": "ipython3",
   "version": "3.10.14"
  },
  "papermill": {
   "default_parameters": {},
   "duration": 7030.579295,
   "end_time": "2024-09-30T20:09:18.235498",
   "environment_variables": {},
   "exception": null,
   "input_path": "__notebook__.ipynb",
   "output_path": "__notebook__.ipynb",
   "parameters": {},
   "start_time": "2024-09-30T18:12:07.656203",
   "version": "2.6.0"
  },
  "widgets": {
   "application/vnd.jupyter.widget-state+json": {
    "state": {
     "03742ada339e4a3eae2ac32d1184704c": {
      "model_module": "@jupyter-widgets/controls",
      "model_module_version": "1.5.0",
      "model_name": "HTMLModel",
      "state": {
       "_dom_classes": [],
       "_model_module": "@jupyter-widgets/controls",
       "_model_module_version": "1.5.0",
       "_model_name": "HTMLModel",
       "_view_count": null,
       "_view_module": "@jupyter-widgets/controls",
       "_view_module_version": "1.5.0",
       "_view_name": "HTMLView",
       "description": "",
       "description_tooltip": null,
       "layout": "IPY_MODEL_de2268f78a5543c6a3572c9729da39b3",
       "placeholder": "​",
       "style": "IPY_MODEL_9234235a9d574e8ea364dbdd0e071205",
       "value": "ppo-CarRacing-v2.zip: 100%"
      }
     },
     "1b9def43e972444a821eeeb85a1dc7d2": {
      "model_module": "@jupyter-widgets/controls",
      "model_module_version": "1.5.0",
      "model_name": "ProgressStyleModel",
      "state": {
       "_model_module": "@jupyter-widgets/controls",
       "_model_module_version": "1.5.0",
       "_model_name": "ProgressStyleModel",
       "_view_count": null,
       "_view_module": "@jupyter-widgets/base",
       "_view_module_version": "1.2.0",
       "_view_name": "StyleView",
       "bar_color": null,
       "description_width": ""
      }
     },
     "26303f71e3ae4d96b76e42670b58dc79": {
      "model_module": "@jupyter-widgets/controls",
      "model_module_version": "1.5.0",
      "model_name": "HTMLModel",
      "state": {
       "_dom_classes": [],
       "_model_module": "@jupyter-widgets/controls",
       "_model_module_version": "1.5.0",
       "_model_name": "HTMLModel",
       "_view_count": null,
       "_view_module": "@jupyter-widgets/controls",
       "_view_module_version": "1.5.0",
       "_view_name": "HTMLView",
       "description": "",
       "description_tooltip": null,
       "layout": "IPY_MODEL_9ff358934f6e4fc0b440471f42b65819",
       "placeholder": "​",
       "style": "IPY_MODEL_ba4de2f507184407ae038552c1f27e9c",
       "value": " 26.6M/26.6M [00:00&lt;00:00, 29.4MB/s]"
      }
     },
     "2f39e9c42ab14b8483fafe917c0a111b": {
      "model_module": "@jupyter-widgets/base",
      "model_module_version": "1.2.0",
      "model_name": "LayoutModel",
      "state": {
       "_model_module": "@jupyter-widgets/base",
       "_model_module_version": "1.2.0",
       "_model_name": "LayoutModel",
       "_view_count": null,
       "_view_module": "@jupyter-widgets/base",
       "_view_module_version": "1.2.0",
       "_view_name": "LayoutView",
       "align_content": null,
       "align_items": null,
       "align_self": null,
       "border": null,
       "bottom": null,
       "display": null,
       "flex": null,
       "flex_flow": null,
       "grid_area": null,
       "grid_auto_columns": null,
       "grid_auto_flow": null,
       "grid_auto_rows": null,
       "grid_column": null,
       "grid_gap": null,
       "grid_row": null,
       "grid_template_areas": null,
       "grid_template_columns": null,
       "grid_template_rows": null,
       "height": null,
       "justify_content": null,
       "justify_items": null,
       "left": null,
       "margin": null,
       "max_height": null,
       "max_width": null,
       "min_height": null,
       "min_width": null,
       "object_fit": null,
       "object_position": null,
       "order": null,
       "overflow": null,
       "overflow_x": null,
       "overflow_y": null,
       "padding": null,
       "right": null,
       "top": null,
       "visibility": null,
       "width": null
      }
     },
     "506e89bfd5f04add9b45527551dea2a5": {
      "model_module": "@jupyter-widgets/base",
      "model_module_version": "1.2.0",
      "model_name": "LayoutModel",
      "state": {
       "_model_module": "@jupyter-widgets/base",
       "_model_module_version": "1.2.0",
       "_model_name": "LayoutModel",
       "_view_count": null,
       "_view_module": "@jupyter-widgets/base",
       "_view_module_version": "1.2.0",
       "_view_name": "LayoutView",
       "align_content": null,
       "align_items": null,
       "align_self": null,
       "border": null,
       "bottom": null,
       "display": null,
       "flex": null,
       "flex_flow": null,
       "grid_area": null,
       "grid_auto_columns": null,
       "grid_auto_flow": null,
       "grid_auto_rows": null,
       "grid_column": null,
       "grid_gap": null,
       "grid_row": null,
       "grid_template_areas": null,
       "grid_template_columns": null,
       "grid_template_rows": null,
       "height": null,
       "justify_content": null,
       "justify_items": null,
       "left": null,
       "margin": null,
       "max_height": null,
       "max_width": null,
       "min_height": null,
       "min_width": null,
       "object_fit": null,
       "object_position": null,
       "order": null,
       "overflow": null,
       "overflow_x": null,
       "overflow_y": null,
       "padding": null,
       "right": null,
       "top": null,
       "visibility": null,
       "width": null
      }
     },
     "9234235a9d574e8ea364dbdd0e071205": {
      "model_module": "@jupyter-widgets/controls",
      "model_module_version": "1.5.0",
      "model_name": "DescriptionStyleModel",
      "state": {
       "_model_module": "@jupyter-widgets/controls",
       "_model_module_version": "1.5.0",
       "_model_name": "DescriptionStyleModel",
       "_view_count": null,
       "_view_module": "@jupyter-widgets/base",
       "_view_module_version": "1.2.0",
       "_view_name": "StyleView",
       "description_width": ""
      }
     },
     "9ff358934f6e4fc0b440471f42b65819": {
      "model_module": "@jupyter-widgets/base",
      "model_module_version": "1.2.0",
      "model_name": "LayoutModel",
      "state": {
       "_model_module": "@jupyter-widgets/base",
       "_model_module_version": "1.2.0",
       "_model_name": "LayoutModel",
       "_view_count": null,
       "_view_module": "@jupyter-widgets/base",
       "_view_module_version": "1.2.0",
       "_view_name": "LayoutView",
       "align_content": null,
       "align_items": null,
       "align_self": null,
       "border": null,
       "bottom": null,
       "display": null,
       "flex": null,
       "flex_flow": null,
       "grid_area": null,
       "grid_auto_columns": null,
       "grid_auto_flow": null,
       "grid_auto_rows": null,
       "grid_column": null,
       "grid_gap": null,
       "grid_row": null,
       "grid_template_areas": null,
       "grid_template_columns": null,
       "grid_template_rows": null,
       "height": null,
       "justify_content": null,
       "justify_items": null,
       "left": null,
       "margin": null,
       "max_height": null,
       "max_width": null,
       "min_height": null,
       "min_width": null,
       "object_fit": null,
       "object_position": null,
       "order": null,
       "overflow": null,
       "overflow_x": null,
       "overflow_y": null,
       "padding": null,
       "right": null,
       "top": null,
       "visibility": null,
       "width": null
      }
     },
     "a934cb1cdd3142bf9b8895aa5e7d45a2": {
      "model_module": "@jupyter-widgets/controls",
      "model_module_version": "1.5.0",
      "model_name": "HBoxModel",
      "state": {
       "_dom_classes": [],
       "_model_module": "@jupyter-widgets/controls",
       "_model_module_version": "1.5.0",
       "_model_name": "HBoxModel",
       "_view_count": null,
       "_view_module": "@jupyter-widgets/controls",
       "_view_module_version": "1.5.0",
       "_view_name": "HBoxView",
       "box_style": "",
       "children": [
        "IPY_MODEL_03742ada339e4a3eae2ac32d1184704c",
        "IPY_MODEL_b14e2507e65741ecb5ed71bd089a0f31",
        "IPY_MODEL_26303f71e3ae4d96b76e42670b58dc79"
       ],
       "layout": "IPY_MODEL_2f39e9c42ab14b8483fafe917c0a111b"
      }
     },
     "b14e2507e65741ecb5ed71bd089a0f31": {
      "model_module": "@jupyter-widgets/controls",
      "model_module_version": "1.5.0",
      "model_name": "FloatProgressModel",
      "state": {
       "_dom_classes": [],
       "_model_module": "@jupyter-widgets/controls",
       "_model_module_version": "1.5.0",
       "_model_name": "FloatProgressModel",
       "_view_count": null,
       "_view_module": "@jupyter-widgets/controls",
       "_view_module_version": "1.5.0",
       "_view_name": "ProgressView",
       "bar_style": "success",
       "description": "",
       "description_tooltip": null,
       "layout": "IPY_MODEL_506e89bfd5f04add9b45527551dea2a5",
       "max": 26588491.0,
       "min": 0.0,
       "orientation": "horizontal",
       "style": "IPY_MODEL_1b9def43e972444a821eeeb85a1dc7d2",
       "value": 26588491.0
      }
     },
     "ba4de2f507184407ae038552c1f27e9c": {
      "model_module": "@jupyter-widgets/controls",
      "model_module_version": "1.5.0",
      "model_name": "DescriptionStyleModel",
      "state": {
       "_model_module": "@jupyter-widgets/controls",
       "_model_module_version": "1.5.0",
       "_model_name": "DescriptionStyleModel",
       "_view_count": null,
       "_view_module": "@jupyter-widgets/base",
       "_view_module_version": "1.2.0",
       "_view_name": "StyleView",
       "description_width": ""
      }
     },
     "de2268f78a5543c6a3572c9729da39b3": {
      "model_module": "@jupyter-widgets/base",
      "model_module_version": "1.2.0",
      "model_name": "LayoutModel",
      "state": {
       "_model_module": "@jupyter-widgets/base",
       "_model_module_version": "1.2.0",
       "_model_name": "LayoutModel",
       "_view_count": null,
       "_view_module": "@jupyter-widgets/base",
       "_view_module_version": "1.2.0",
       "_view_name": "LayoutView",
       "align_content": null,
       "align_items": null,
       "align_self": null,
       "border": null,
       "bottom": null,
       "display": null,
       "flex": null,
       "flex_flow": null,
       "grid_area": null,
       "grid_auto_columns": null,
       "grid_auto_flow": null,
       "grid_auto_rows": null,
       "grid_column": null,
       "grid_gap": null,
       "grid_row": null,
       "grid_template_areas": null,
       "grid_template_columns": null,
       "grid_template_rows": null,
       "height": null,
       "justify_content": null,
       "justify_items": null,
       "left": null,
       "margin": null,
       "max_height": null,
       "max_width": null,
       "min_height": null,
       "min_width": null,
       "object_fit": null,
       "object_position": null,
       "order": null,
       "overflow": null,
       "overflow_x": null,
       "overflow_y": null,
       "padding": null,
       "right": null,
       "top": null,
       "visibility": null,
       "width": null
      }
     }
    },
    "version_major": 2,
    "version_minor": 0
   }
  }
 },
 "nbformat": 4,
 "nbformat_minor": 5
}
